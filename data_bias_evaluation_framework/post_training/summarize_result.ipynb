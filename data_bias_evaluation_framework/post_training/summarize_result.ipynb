{
 "cells": [
  {
   "cell_type": "code",
   "execution_count": null,
   "metadata": {},
   "outputs": [],
   "source": [
    "# Copyright (c) Microsoft Corporation. All rights reserved.\n",
    "# Licensed under the MIT License.\n",
    "%load_ext autoreload\n",
    "%autoreload 2\n",
    "import os\n",
    "import pandas as pd\n",
    "import torch.optim as optim\n",
    "\n",
    "from sklearn.model_selection import train_test_split\n",
    "from sklearn.model_selection import StratifiedKFold\n",
    "import torch\n",
    "\n",
    "import sys\n",
    "sys.path.append('../prepare_dataset')\n",
    "sys.path.append('../models')\n",
    "sys.path.append('../train_model')\n",
    "import data_aug\n",
    "import prepare_binary_dataset\n",
    "import data_aug\n",
    "import models_classification\n",
    "import utils\n",
    "import matplotlib.pyplot as plt\n",
    "from torch.utils.data import DataLoader\n",
    "import torch.nn as nn\n",
    "import train_model_binary\n",
    "import model_eval\n",
    "\n",
    "import seaborn as sns"
   ]
  },
  {
   "cell_type": "markdown",
   "metadata": {},
   "source": [
    "## Visualize results for Counterfactual Experiment I"
   ]
  },
  {
   "cell_type": "markdown",
   "metadata": {},
   "source": [
    "### Load the model performance metrics dataframe for each experiment"
   ]
  },
  {
   "cell_type": "code",
   "execution_count": null,
   "metadata": {},
   "outputs": [],
   "source": [
    "exp_main_dir='../experiment_gen/'\n",
    "exp_dirs=['resnet50_False_0.0_False_32_1234_100_True_False_0.05_0.01_0_0.9',\n",
    "          'resnet50_True_1.0_False_32_1234_100_True_False_0.05_0.01_0_0.9',\n",
    "          'resnet50_True_0.9_False_32_1234_100_True_False_0.05_0.01_0_0.9',\n",
    "          'vit_b_16_384_False_0.0_False_32_1234_100_True_False_0.05_0.01_0_0.9',\n",
    "          'vit_b_16_384_True_1.0_False_32_1234_100_True_False_0.05_0.01_0_0.9',\n",
    "          'vit_b_16_384_True_0.9_False_32_1234_100_True_False_0.05_0.01_0_0.9',\n",
    "          'vit_b_16_False_0.0_False_32_1234_100_True_False_0.05_0.01_0_0.9',\n",
    "          'vit_b_16_True_1.0_False_32_1234_100_True_False_0.05_0.01_0_0.9',\n",
    "          'vit_b_16_True_0.9_False_32_1234_100_True_False_0.05_0.01_0_0.9',\n",
    "          'densenet161_True_0.9_False_32_1234_100_True_False_0.05_0.01_0_0.9',\n",
    "          'densenet161_False_0.0_False_32_1234_100_True_False_0.05_0.01_0_0.9',\n",
    "          'densenet161_True_1.0_False_32_1234_100_True_False_0.05_0.01_0_0.9'\n",
    "          ]\n",
    "df_combined=pd.DataFrame()\n",
    "for i, folder_name in enumerate(exp_dirs):\n",
    "    experiment_main_folder=os.path.join(exp_main_dir,folder_name)\n",
    "    df=pd.read_csv(os.path.join(experiment_main_folder,'metrics.csv'))\n",
    "    if i==0: df_combined=df\n",
    "    else: df_combined=pd.concat([df_combined,df])\n",
    "df_combined_long=pd.melt(df_combined, id_vars=['model_name','train_origin','eclipse','eclipse_extent'], value_vars=['val_acc','val_auc','test0_acc','test0_auc','test1_acc','test1_auc'], var_name='metrics', value_name='value')\n",
    "df_combined_long_auc=df_combined_long[df_combined_long['metrics'].str.contains('auc')].reset_index(drop=True)"
   ]
  },
  {
   "cell_type": "markdown",
   "metadata": {},
   "source": [
    "### Reproduce Figure 2"
   ]
  },
  {
   "cell_type": "code",
   "execution_count": null,
   "metadata": {},
   "outputs": [],
   "source": [
    "sns.set(font_scale=1.5)\n",
    "\n",
    "g = sns.catplot(\n",
    "    data=df_combined_long_auc[df_combined_long_auc.train_origin=='Chile'], kind=\"bar\",\n",
    "    x=\"metrics\", y=\"value\", hue=\"eclipse_extent\",errorbar='sd',palette=\"Paired\", alpha=.6, height=4.5\n",
    ")\n",
    "g.set_axis_labels(\"\", \"AUC\")\n",
    "g.legend.set_title(\"Eclipse Extent\")\n",
    "g.set_xticklabels([\"Internal\", \"Ohio\", \"Turkey\"])\n",
    "g.set(ylim=(0, 1))\n",
    "g.fig.suptitle('Trained on Chile')\n",
    "# remove legend\n",
    "g._legend.remove()"
   ]
  },
  {
   "cell_type": "code",
   "execution_count": null,
   "metadata": {},
   "outputs": [],
   "source": [
    "sns.set(font_scale=1.5)\n",
    "g = sns.catplot(\n",
    "    data=df_combined_long_auc[df_combined_long_auc.train_origin=='Ohio'], kind=\"bar\",\n",
    "    x=\"metrics\", y=\"value\", hue=\"eclipse_extent\",errorbar='sd',palette=\"Paired\", alpha=.6, height=4.5\n",
    ")\n",
    "g.set_axis_labels(\"\", \"AUC\")\n",
    "g.legend.set_title(\"Eclipse Extent\")\n",
    "g.set_xticklabels([\"Internal\", \"Chile\", \"Turkey\"])\n",
    "g.set(ylim=(0, 1))\n",
    "g.fig.suptitle('Trained on Ohio')\n",
    "g._legend.remove()\n"
   ]
  },
  {
   "cell_type": "code",
   "execution_count": null,
   "metadata": {},
   "outputs": [],
   "source": [
    "sns.set(font_scale=1.5)\n",
    "\n",
    "g = sns.catplot(\n",
    "    data=df_combined_long_auc[df_combined_long_auc.train_origin=='Turkey'], kind=\"bar\",\n",
    "    x=\"metrics\", y=\"value\", hue=\"eclipse_extent\",errorbar='sd',palette=\"Paired\", alpha=.6, height=4.5\n",
    ")\n",
    "g.set_axis_labels(\"\", \"AUC\")\n",
    "g.legend.set_title(\"Eclipse Extent\")\n",
    "g.set_xticklabels([\"Internal\", \"Chile\", \"Ohio\"])\n",
    "g.set(ylim=(0, 1))\n",
    "g.fig.suptitle('Trained on Turkey')\n",
    "\n"
   ]
  },
  {
   "cell_type": "markdown",
   "metadata": {},
   "source": [
    "### Additional visualiation: Model performance comparison\n",
    "All models were trained on images with Eclipse Extent = 0"
   ]
  },
  {
   "cell_type": "code",
   "execution_count": null,
   "metadata": {},
   "outputs": [],
   "source": [
    "df_combined_eclipse0=df_combined.loc[df_combined['eclipse_extent']==0.0]\n",
    "df_combined_eclipse0_long=pd.melt(df_combined_eclipse0, id_vars=['model_name','train_origin','eclipse','eclipse_extent'], value_vars=['val_acc','val_auc','val_prauc','test0_acc','test0_auc','test0_prauc','test1_acc','test1_auc','test1_prauc'], var_name='metrics', value_name='value')\n",
    "df_combined_eclipse0_long_auc=df_combined_eclipse0_long.loc[df_combined_eclipse0_long['metrics'].str.contains('_auc')]\n",
    "sns.set(font_scale=1.5)\n",
    "\n",
    "g = sns.catplot(\n",
    "    data=df_combined_eclipse0_long_auc, kind=\"bar\",\n",
    "    x=\"metrics\", y=\"value\", hue=\"model_name\",palette=\"Paired\", \n",
    "    col=\"train_origin\",  alpha=.6, height=6\n",
    ")\n",
    "g.despine(left=True)\n",
    "g.set_axis_labels(\"\", \"AUC\")\n",
    "g.legend.set_title(\"Eclipse Extent\")\n",
    "g.set_titles(\"Trained on {col_name}\")\n",
    "g.set_xticklabels([\"Internal val\", \"External test I\", \"External test II\"])\n",
    "\n",
    "\n",
    "\n"
   ]
  },
  {
   "cell_type": "markdown",
   "metadata": {},
   "source": [
    "## Model evaluation for a new experiment\n",
    "- Because of github file size limit, we cannot include all the trained models. We included the `metrics.csv` but not the trained models for the following experiments in `experiment_gen`   \n",
    "    - densenet161_True_0.9_False_32_1234_100_True_False_0.05_0.01_0_0.9\n",
    "    - densenet161_False_0.0_False_32_1234_100_True_False_0.05_0.01_0_0.9\n",
    "    - densenet161_True_1.0_False_32_1234_100_True_False_0.05_0.01_0_0.9\n",
    "    - vit_b_16_384_False_0.0_False_32_1234_100_True_False_0.05_0.01_0_0.9\n",
    "    - vit_b_16_384_True_1.0_False_32_1234_100_True_False_0.05_0.01_0_0.9\n",
    "    - vit_b_16_384_True_0.9_False_32_1234_100_True_False_0.05_0.01_0_0.9\n",
    "- If you want to evaluate your model on a new experiment, you can use the following code to load the model and evaluate it."
   ]
  },
  {
   "cell_type": "code",
   "execution_count": null,
   "metadata": {},
   "outputs": [],
   "source": [
    "exp_main_dir='../experiment_gen'\n",
    "folder_name='vit_b_16_False_0.0_False_32_1234_100_True_False_0.05_0.01_0_0.9'\n",
    "experiment_main_folder=os.path.join(exp_main_dir,folder_name)\n",
    "metrics_df=model_eval.summarize_experiment(experiment_main_folder,cudaID=0,model_state_name='model.pt')\n",
    "metrics_df.to_csv(os.path.join(experiment_main_folder,'metrics.csv'),index=False)"
   ]
  }
 ],
 "metadata": {
  "kernelspec": {
   "display_name": "drumbeat_work_env_jupyterhub",
   "language": "python",
   "name": "python3"
  },
  "language_info": {
   "codemirror_mode": {
    "name": "ipython",
    "version": 3
   },
   "file_extension": ".py",
   "mimetype": "text/x-python",
   "name": "python",
   "nbconvert_exporter": "python",
   "pygments_lexer": "ipython3",
   "version": "3.11.8"
  }
 },
 "nbformat": 4,
 "nbformat_minor": 4
}

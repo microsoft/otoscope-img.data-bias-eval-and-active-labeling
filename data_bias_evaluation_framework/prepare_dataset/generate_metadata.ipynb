{
 "cells": [
  {
   "cell_type": "code",
   "execution_count": 19,
   "metadata": {},
   "outputs": [],
   "source": [
    "# Copyright (c) Microsoft Corporation. All rights reserved.\n",
    "# Licensed under the MIT License.\n",
    "import os\n",
    "import pandas as pd"
   ]
  },
  {
   "cell_type": "code",
   "execution_count": 24,
   "metadata": {},
   "outputs": [],
   "source": [
    "import os\n",
    "DATA_MAIN_DIR='../../../data/eardrum_public_data'\n",
    "CHILE_DATA_DIR='Chile'\n",
    "OHIO_DATA_DIR='Ohio'\n",
    "TURKEY_DATA_DIR='Turkey'\n",
    "\n",
    "def get_file_list(data_dir,suffix_list=['.jpg','.png'],exclude='.ipynb_checkpoints'):\n",
    "    file_list=[]\n",
    "    for root, dirs, files in os.walk(data_dir):\n",
    "        for file in files:\n",
    "            if exclude not in file:\n",
    "                if any(file.endswith(suffix) for suffix in suffix_list):\n",
    "                    file_list.append(os.path.join(root, file))\n",
    "    return file_list\n"
   ]
  },
  {
   "cell_type": "markdown",
   "metadata": {},
   "source": [
    "## Generate dataframe for the Chile dataset"
   ]
  },
  {
   "cell_type": "code",
   "execution_count": 25,
   "metadata": {},
   "outputs": [
    {
     "name": "stdout",
     "output_type": "stream",
     "text": [
      "Earwax plug             220\n",
      "Normal                  220\n",
      "Myringosclerosis        220\n",
      "Chronic otitis media    220\n",
      "Name: class, dtype: int64\n",
      "1    660\n",
      "0    220\n",
      "Name: binary_class, dtype: int64\n",
      "is_test  class               \n",
      "False    Chronic otitis media    180\n",
      "         Earwax plug             180\n",
      "         Myringosclerosis        180\n",
      "         Normal                  180\n",
      "True     Chronic otitis media     40\n",
      "         Earwax plug              40\n",
      "         Myringosclerosis         40\n",
      "         Normal                   40\n",
      "dtype: int64\n"
     ]
    }
   ],
   "source": [
    "CHILE_DATA_PATH=os.path.join(DATA_MAIN_DIR,CHILE_DATA_DIR)\n",
    "chile_file_list=get_file_list(CHILE_DATA_PATH)\n",
    "# To avoid problem of duplicate files, we create an index\n",
    "\n",
    "df_chile=pd.DataFrame(chile_file_list,columns=['file_path'])\n",
    "df_chile['relative_file_path']=df_chile['file_path'].apply(lambda x: x.split(CHILE_DATA_PATH)[1])\n",
    "df_chile['is_test']=df_chile['relative_file_path'].apply(lambda x: 'Testing/' in x)\n",
    "df_chile['class']=df_chile['relative_file_path'].apply(lambda x: x.split('/')[2])\n",
    "print(df_chile['class'].value_counts(dropna=False))\n",
    "\n",
    "df_chile['binary_class']=df_chile['class'].apply(lambda x: 0 if x=='Normal' else 1)\n",
    "print(df_chile['binary_class'].value_counts(dropna=False))\n",
    "# group by is_test and class show the counts\n",
    "print(df_chile.groupby(['is_test','class']).size())\n",
    "df_chile.drop(columns=['file_path'],inplace=True)\n",
    "df_chile['source']='Chile'"
   ]
  },
  {
   "cell_type": "markdown",
   "metadata": {},
   "source": [
    "## Generate dataframe for the Ohio dataset"
   ]
  },
  {
   "cell_type": "code",
   "execution_count": 26,
   "metadata": {},
   "outputs": [
    {
     "name": "stdout",
     "output_type": "stream",
     "text": [
      "Effusion    182\n",
      "Normal      179\n",
      "Tube         96\n",
      "Name: class, dtype: int64\n",
      "1    278\n",
      "0    179\n",
      "Name: binary_class, dtype: int64\n",
      "1    182\n",
      "0    179\n",
      "Name: binary_class, dtype: int64\n"
     ]
    }
   ],
   "source": [
    "OHIO_DATA_PATH=os.path.join(DATA_MAIN_DIR,OHIO_DATA_DIR)\n",
    "ohio_file_list=get_file_list(OHIO_DATA_PATH)\n",
    "df_ohio=pd.DataFrame(ohio_file_list,columns=['file_path'])\n",
    "df_ohio['relative_file_path']=df_ohio['file_path'].apply(lambda x: x.split(OHIO_DATA_PATH)[1])\n",
    "# Assign df_ohio['is_test'] as NA\n",
    "df_ohio['is_test']=None\n",
    "df_ohio['class']=df_ohio['relative_file_path'].apply(lambda x: x.split('/')[2])\n",
    "print(df_ohio['class'].value_counts(dropna=False))\n",
    "df_ohio['binary_class']=df_ohio['class'].apply(lambda x: 0 if x=='Normal' else 1)\n",
    "df_ohio['source']='Ohio'\n",
    "print(df_ohio['binary_class'].value_counts(dropna=False))\n",
    "df_ohio.drop(columns=['file_path'],inplace=True)\n",
    "# remove the Tube class\n",
    "df_ohio=df_ohio[df_ohio['class']!='Tube'].reset_index(drop=True)\n",
    "print(df_ohio['binary_class'].value_counts(dropna=False))"
   ]
  },
  {
   "cell_type": "markdown",
   "metadata": {},
   "source": [
    "## Generate dataframe for the Turkey dataset"
   ]
  },
  {
   "cell_type": "code",
   "execution_count": 27,
   "metadata": {},
   "outputs": [
    {
     "name": "stdout",
     "output_type": "stream",
     "text": [
      "normal                535\n",
      "earwax                140\n",
      "aom                   119\n",
      "csom                   63\n",
      "otitisexterna          41\n",
      "tympanoskleros         28\n",
      "earVentilationTube     16\n",
      "pseudoMembranes        11\n",
      "foreignObjectEar        3\n",
      "Name: class, dtype: int64\n",
      "class\n",
      "aom               119\n",
      "csom               63\n",
      "earwax            140\n",
      "normal            535\n",
      "tympanoskleros     28\n",
      "dtype: int64\n"
     ]
    }
   ],
   "source": [
    "TURKEY_DATA_PATH=os.path.join(DATA_MAIN_DIR,TURKEY_DATA_DIR)\n",
    "turkey_file_list=get_file_list(TURKEY_DATA_PATH)    \n",
    "df_turkey=pd.DataFrame(turkey_file_list,columns=['file_path'])\n",
    "df_turkey['relative_file_path']=df_turkey['file_path'].apply(lambda x: x.split(TURKEY_DATA_PATH)[1])\n",
    "df_turkey['class']=df_turkey['relative_file_path'].apply(lambda x: x.split('/')[1] if '/normal/' in x else x.split('/')[2])\n",
    "print(df_turkey['class'].value_counts(dropna=False))\n",
    "df_turkey['is_test']=df_turkey['relative_file_path'].apply(lambda x: 'Test' in x)\n",
    "df_turkey['is_test'].value_counts(dropna=False) \n",
    "df_turkey['binary_class']=df_turkey['class'].apply(lambda x: 0 if x=='normal' else 1)\n",
    "# drop the case if class ='pseudoMembranes' or 'foreignObjectEar' or 'otitisexterna' or 'earVentilationTube'\n",
    "# keep tympanoskleros as this has been found in the CHILE datasets\n",
    "# Include  tympanosclerosis as it is similar to Myringosclerosis\n",
    "df_turkey=df_turkey[~df_turkey['class'].isin(['pseudoMembranes','foreignObjectEar','otitisexterna','earVentilationTube'])]\n",
    "df_turkey.reset_index(drop=True,inplace=True)\n",
    "df_turkey['source']='Turkey'\n",
    "print(df_turkey.groupby(['class']).size())\n",
    "df_turkey.drop(columns=['file_path'],inplace=True)"
   ]
  },
  {
   "cell_type": "markdown",
   "metadata": {},
   "source": [
    "## Combine all three dataframes and save as metadata.csv"
   ]
  },
  {
   "cell_type": "code",
   "execution_count": 29,
   "metadata": {},
   "outputs": [],
   "source": [
    "df=pd.concat([df_chile,df_ohio,df_turkey],axis=0)\n",
    "df.reset_index(inplace=True,drop=True)\n",
    "#df.to_csv(os.path.join('../metadata/metadata.csv'),index=False)"
   ]
  },
  {
   "cell_type": "code",
   "execution_count": 30,
   "metadata": {},
   "outputs": [
    {
     "data": {
      "text/plain": [
       "source  class               \n",
       "Chile   Chronic otitis media    220\n",
       "        Earwax plug             220\n",
       "        Myringosclerosis        220\n",
       "        Normal                  220\n",
       "Ohio    Effusion                182\n",
       "        Normal                  179\n",
       "Turkey  aom                     119\n",
       "        csom                     63\n",
       "        earwax                  140\n",
       "        normal                  535\n",
       "        tympanoskleros           28\n",
       "dtype: int64"
      ]
     },
     "execution_count": 30,
     "metadata": {},
     "output_type": "execute_result"
    }
   ],
   "source": [
    "df.groupby(['source','class']).size()"
   ]
  },
  {
   "cell_type": "markdown",
   "metadata": {},
   "source": [
    "### Check pre-specified testing sets for the Chile and Turkey datasets"
   ]
  },
  {
   "cell_type": "code",
   "execution_count": 11,
   "metadata": {},
   "outputs": [
    {
     "data": {
      "text/plain": [
       "source  is_test  class               \n",
       "Chile   False    Chronic otitis media    180\n",
       "                 Earwax plug             180\n",
       "                 Myringosclerosis        180\n",
       "                 Normal                  180\n",
       "        True     Chronic otitis media     40\n",
       "                 Earwax plug              40\n",
       "                 Myringosclerosis         40\n",
       "                 Normal                   40\n",
       "Turkey  False    aom                      95\n",
       "                 csom                     50\n",
       "                 earwax                  112\n",
       "                 normal                  428\n",
       "                 tympanoskleros           28\n",
       "        True     aom                      24\n",
       "                 csom                     13\n",
       "                 earwax                   28\n",
       "                 normal                  107\n",
       "dtype: int64"
      ]
     },
     "execution_count": 11,
     "metadata": {},
     "output_type": "execute_result"
    }
   ],
   "source": [
    "df.groupby(['source','is_test','class']).size()"
   ]
  }
 ],
 "metadata": {
  "kernelspec": {
   "display_name": "Python 3 (ipykernel)",
   "language": "python",
   "name": "python3"
  },
  "language_info": {
   "codemirror_mode": {
    "name": "ipython",
    "version": 3
   },
   "file_extension": ".py",
   "mimetype": "text/x-python",
   "name": "python",
   "nbconvert_exporter": "python",
   "pygments_lexer": "ipython3",
   "version": "3.8.12"
  }
 },
 "nbformat": 4,
 "nbformat_minor": 4
}
